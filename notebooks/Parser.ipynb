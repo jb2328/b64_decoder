{
 "cells": [
  {
   "cell_type": "code",
   "execution_count": 1,
   "metadata": {},
   "outputs": [],
   "source": [
    "import base64"
   ]
  },
  {
   "cell_type": "code",
   "execution_count": 2,
   "metadata": {},
   "outputs": [],
   "source": [
    "TYPE_TEMP         = 0x01 #temp 2 bytes -3276.8°C -->3276.7°C\n",
    "TYPE_RH           = 0x02 #Humidity 1 byte  0-100%\n",
    "TYPE_ACC          = 0x03 #acceleration 3 bytes X,Y,Z -128 --> 127 +/-63=1G\n",
    "TYPE_LIGHT        = 0x04 #Light 2 bytes 0-->65535 Lux\n",
    "TYPE_MOTION       = 0x05 #No of motion 1 byte  0-255\n",
    "TYPE_CO2          = 0x06 #Co2 2 bytes 0-65535 ppm \n",
    "TYPE_VDD          = 0x07 #VDD 2byte 0-65535mV\n",
    "TYPE_ANALOG1      = 0x08 #VDD 2byte 0-65535mV\n",
    "TYPE_GPS          = 0x09 #3bytes lat 3bytes long binary\n",
    "TYPE_PULSE1       = 0x0A #2bytes relative pulse count\n",
    "TYPE_PULSE1_ABS   = 0x0B #4bytes no 0->0xFFFFFFFF\n",
    "TYPE_EXT_TEMP1    = 0x0C #2bytes -3276.5C-->3276.5C\n",
    "TYPE_EXT_DIGITAL  = 0x0D #1bytes value 1 or 0\n",
    "TYPE_EXT_DISTANCE = 0x0E     #2bytes distance in mm\n",
    "TYPE_ACC_MOTION   = 0x0F     #1byte number of vibration/motion\n",
    "TYPE_IR_TEMP      = 0x10     #2bytes internal temp 2bytes external temp -3276.5C-->3276.5C\n",
    "TYPE_OCCUPANCY    = 0x11     #1byte data\n",
    "TYPE_WATERLEAK    = 0x12     #1byte data 0-255 \n",
    "TYPE_GRIDEYE      = 0x13     #65byte temperature data 1byte ref+64byte external temp\n",
    "TYPE_PRESSURE     = 0x14     #4byte pressure data (hPa)\n",
    "TYPE_SOUND        = 0x15     #2byte sound data (peak/avg)\n",
    "TYPE_PULSE2       = 0x16     #2bytes 0-->0xFFFF\n",
    "TYPE_PULSE2_ABS   = 0x17     #4bytes no 0->0xFFFFFFFF\n",
    "TYPE_ANALOG2      = 0x18     #2bytes voltage in mV\n",
    "TYPE_EXT_TEMP2    = 0x19     #2bytes -3276.5C-->3276.5C\n",
    "TYPE_EXT_DIGITAL2 = 0x1A     # 1bytes value 1 or 0 \n",
    "TYPE_EXT_ANALOG_UV= 0x1B     # 4 bytes signed int (uV)\n",
    "TYPE_DEBUG        = 0x3D     # 4bytes debug "
   ]
  },
  {
   "cell_type": "code",
   "execution_count": 3,
   "metadata": {},
   "outputs": [],
   "source": [
    "def bin8dec(bin):\n",
    "    num=bin&0xFF;\n",
    "    if (0x80 & num): \n",
    "        num = - (0x0100 - num);\n",
    "    return num"
   ]
  },
  {
   "cell_type": "code",
   "execution_count": 157,
   "metadata": {},
   "outputs": [],
   "source": [
    "def bin16dec(bin):\n",
    "    num=bin&0xFFFF;\n",
    "    if (0x8000 & num):\n",
    "        num = - (0x010000 - num);\n",
    "    print(\"bin16dec\", bin,\"-->\",num);\n",
    "    return num"
   ]
  },
  {
   "cell_type": "code",
   "execution_count": 5,
   "metadata": {},
   "outputs": [],
   "source": [
    "def hexToBytes(hex):\n",
    "    bytes = []\n",
    "    for c in range(0,len(hex),2):\n",
    "        bytes.append(int(hex[c: c+2],16))\n",
    "    return bytes"
   ]
  },
  {
   "cell_type": "code",
   "execution_count": 6,
   "metadata": {},
   "outputs": [],
   "source": [
    "def b64ToHex(b64):\n",
    "    return base64.b64decode(b64).hex()"
   ]
  },
  {
   "cell_type": "code",
   "execution_count": 242,
   "metadata": {},
   "outputs": [],
   "source": [
    "def DecodeElsysPayload(data):\n",
    "    obj = {};\n",
    "    obj[\"device\"]=\"elsys\"\n",
    "    print(\"data \",data,\" len \",len(data))\n",
    "    i=0\n",
    "    while(i<len(data)):\n",
    "        #Temperature\n",
    "        if data[i] == TYPE_TEMP:    \n",
    "            temp=(data[i+1]<<8)|(data[i+2])\n",
    "            print(\"temp\")\n",
    "            temp=bin16dec(temp)\n",
    "            obj[\"temperature\"]=temp/10\n",
    "            print(i, \"before\")\n",
    "            i=i+2\n",
    "            print(i, \"after\")\n",
    "        \n",
    "        #Humidity\n",
    "        elif data[i] == TYPE_RH:    \n",
    "            rh=(data[i+1])\n",
    "            obj[\"humidity\"]=rh\n",
    "            i+=1\n",
    "            \n",
    "        #Acceleration\n",
    "        elif data[i] == TYPE_ACC:    \n",
    "            obj[\"x\"]=bin8dec(data[i+1])\n",
    "            obj[\"y\"]=bin8dec(data[i+2])\n",
    "            obj[\"z\"]=bin8dec(data[i+3])\n",
    "            i+=3\n",
    "            \n",
    "        #Light \n",
    "        elif data[i] == TYPE_LIGHT: \n",
    "            obj[\"light\"]=(data[i+1]<<8)|(data[i+2])\n",
    "            i+=2\n",
    "            \n",
    "        #Motion sensor(PIR)\n",
    "        elif data[i] == TYPE_MOTION:\n",
    "            obj[\"motion\"]=(data[i+1])\n",
    "            i+=1\n",
    "            \n",
    "        #CO2\n",
    "        elif data[i] == TYPE_CO2:\n",
    "            obj[\"co2\"]=(data[i+1]<<8)|(data[i+2])\n",
    "            i+=2\n",
    "            \n",
    "        #Battery level\n",
    "        elif data[i] == TYPE_VDD:\n",
    "            obj[\"vdd\"]=(data[i+1]<<8)|(data[i+2])\n",
    "            i+=2\n",
    "            \n",
    "        #Analog input 1\n",
    "        elif data[i] == TYPE_ANALOG1: \n",
    "            obj[\"analog1\"]=(data[i+1]<<8)|(data[i+2])\n",
    "            i+=2\n",
    "            \n",
    "        #gps\n",
    "        elif data[i] ==  TYPE_GPS:\n",
    "            obj[\"lat\"]=(data[i+1]<<16)|(data[i+2]<<8)|(data[i+3])\n",
    "            obj[\"lng\"]=(data[i+4]<<16)|(data[i+5]<<8)|(data[i+6])\n",
    "            i+=6\n",
    "            \n",
    "        #Pulse input 1\n",
    "        elif data[i] == TYPE_PULSE1:    \n",
    "            obj[\"pulse1\"]=(data[i+1]<<8)|(data[i+2])\n",
    "            i+=2\n",
    "            \n",
    "        #Pulse input 1 absolute value\n",
    "        elif data[i] ==  TYPE_PULSE1_ABS: \n",
    "            pulseAbs=(data[i+1]<<24)|(data[i+2]<<16)|(data[i+3]<<8)|(data[i+4])\n",
    "            obj[\"pulseAbs\"]=pulseAbs\n",
    "            i+=4\n",
    "            \n",
    "        #External temp\n",
    "        elif data[i] ==TYPE_EXT_TEMP1:\n",
    "            temp=(data[i+1]<<8)|(data[i+2])\n",
    "            print(\"ex_temp\")\n",
    "            temp=bin16dec(temp)\n",
    "            obj[\"externalTemperature\"]=temp/10\n",
    "            i+=2\n",
    "            \n",
    "        #Digital input\n",
    "        elif data[i] == TYPE_EXT_DIGITAL:\n",
    "            obj[\"digital\"]=(data[i+1])\n",
    "            i+=1\n",
    "            \n",
    "        #Distance sensor input \n",
    "        elif data[i] == TYPE_EXT_DISTANCE:     \n",
    "            obj[\"distance\"]=(data[i+1]<<8)|(data[i+2])\n",
    "            obj[\"JBJB\"]=\"my debug here\"\n",
    "            i+=2\n",
    "            \n",
    "        #Acc motion\n",
    "        elif data[i] == TYPE_ACC_MOTION:     \n",
    "            obj[\"accMotion\"]=(data[i+1])\n",
    "            i+=1\n",
    "            \n",
    "        #IR temperature\n",
    "        elif data[i] == TYPE_IR_TEMP:\n",
    "            iTemp=(data[i+1]<<8)|(data[i+2])\n",
    "            print(\"ir_temp\")\n",
    "            iTemp=bin16dec(iTemp)\n",
    "            eTemp=(data[i+3]<<8)|(data[i+4])\n",
    "            eTemp=bin16dec(eTemp)\n",
    "            obj[\"irInternalTemperature\"]=iTemp/10\n",
    "            obj[\"irExternalTemperature\"]=eTemp/10\n",
    "            i+=4\n",
    "            \n",
    "        #Body occupancy\n",
    "        elif data[i] == TYPE_OCCUPANCY:\n",
    "            obj[\"occupancy\"]=(data[i+1])\n",
    "            i+=1\n",
    "            \n",
    "        #Water leak\n",
    "        elif data[i] == TYPE_WATERLEAK:\n",
    "            obj[\"waterleak\"]=(data[i+1])\n",
    "            i+=1\n",
    "            \n",
    "        #Grideye data\n",
    "        elif data[i] == TYPE_GRIDEYE:\n",
    "            obj[\"grideye\"]=\"8x8 missing\"\n",
    "            i+=65\n",
    "            \n",
    "        #External Pressure\n",
    "        elif data[i] == TYPE_PRESSURE:\n",
    "            temp=(data[i+1]<<24)|(data[i+2]<<16)|(data[i+3]<<8)|(data[i+4])\n",
    "            obj[\"pressure\"]=temp/1000\n",
    "            i+=4\n",
    "            \n",
    "        #Sound\n",
    "        elif data[i] == TYPE_SOUND:\n",
    "            obj[\"soundPeak\"]=data[i+1]\n",
    "            obj[\"soundAvg\"]=data[i+2]\n",
    "            i+=2\n",
    "            \n",
    "        #Pulse 2\n",
    "        elif data[i] == TYPE_PULSE2:\n",
    "            obj[\"pulse2\"]=(data[i+1]<<8)|(data[i+2])\n",
    "            i+=2\n",
    "            \n",
    "        #Pulse input 2 absolute value\n",
    "        elif data[i] == TYPE_PULSE2_ABS:\n",
    "            obj[\"pulseAbs2\"]=(data[i+1]<<24)|(data[i+2]<<16)|(data[i+3]<<8)|(data[i+4])\n",
    "            i+=4\n",
    "            \n",
    "        #Analog input 2\n",
    "        elif data[i] ==  TYPE_ANALOG2:   \n",
    "            obj[\"analog2\"]=(data[i+1]<<8)|(data[i+2])\n",
    "            i+=2\n",
    "            \n",
    "        #External temp 2\n",
    "        elif data[i] == TYPE_EXT_TEMP2:\n",
    "            temp=(data[i+1]<<8)|(data[i+2])\n",
    "            print(ex_temp2)\n",
    "            temp=bin16dec(temp)\n",
    "            obj[\"externalTemperature2\"]=temp/10\n",
    "            i+=2\n",
    "            \n",
    "        #Digital input 2 \n",
    "        elif data[i] ==  TYPE_EXT_DIGITAL2:\n",
    "            obj[\"digital2\"]=(data[i+1])\n",
    "            i+=1\n",
    "             \n",
    "        #Load cell analog uV\n",
    "        elif data[i] == TYPE_EXT_ANALOG_UV:\n",
    "            obj[\"analogUv\"] = (data[i + 1] << 24) | (data[i + 2] << 16) | (data[i + 3] << 8) | (data[i + 4])\n",
    "            i += 4\n",
    "            \n",
    "        else:\n",
    "            #print(\"something is wrong with data\")\n",
    "            i=len(data)\n",
    "        i+=1\n",
    "    return obj;\n"
   ]
  },
  {
   "cell_type": "code",
   "execution_count": 243,
   "metadata": {},
   "outputs": [
    {
     "data": {
      "text/plain": [
       "'0100ec0223033c11fb070e2e0b000000990d000f001200'"
      ]
     },
     "execution_count": 243,
     "metadata": {},
     "output_type": "execute_result"
    }
   ],
   "source": [
    "hex_string=b64ToHex(\"AQDsAiMDPBH7Bw4uCwAAAJkNAA8AEgA= \")\n",
    "hex_string"
   ]
  },
  {
   "cell_type": "code",
   "execution_count": 244,
   "metadata": {},
   "outputs": [
    {
     "data": {
      "text/plain": [
       "[1,\n",
       " 0,\n",
       " 236,\n",
       " 2,\n",
       " 35,\n",
       " 3,\n",
       " 60,\n",
       " 17,\n",
       " 251,\n",
       " 7,\n",
       " 14,\n",
       " 46,\n",
       " 11,\n",
       " 0,\n",
       " 0,\n",
       " 0,\n",
       " 153,\n",
       " 13,\n",
       " 0,\n",
       " 15,\n",
       " 0,\n",
       " 18,\n",
       " 0]"
      ]
     },
     "execution_count": 244,
     "metadata": {},
     "output_type": "execute_result"
    }
   ],
   "source": [
    "data=hexToBytes(hex_string)\n",
    "data"
   ]
  },
  {
   "cell_type": "code",
   "execution_count": 245,
   "metadata": {},
   "outputs": [
    {
     "data": {
      "text/plain": [
       "b'\\x01\\x00\\xec\\x02#\\x03<\\x11\\xfb\\x07\\x0e.\\x0b\\x00\\x00\\x00\\x99\\r\\x00\\x0f\\x00\\x12\\x00'"
      ]
     },
     "execution_count": 245,
     "metadata": {},
     "output_type": "execute_result"
    }
   ],
   "source": [
    "message_bytes = base64.b64decode(\"AQDsAiMDPBH7Bw4uCwAAAJkNAA8AEgA= \")\n",
    "message_bytes"
   ]
  },
  {
   "cell_type": "code",
   "execution_count": 246,
   "metadata": {},
   "outputs": [
    {
     "name": "stdout",
     "output_type": "stream",
     "text": [
      "data  [1, 0, 236, 2, 35, 3, 60, 17, 251, 7, 14, 46, 11, 0, 0, 0, 153, 13, 0, 15, 0, 18, 0]  len  23\n",
      "temp\n",
      "bin16dec 236 --> 236\n",
      "0 before\n",
      "2 after\n"
     ]
    },
    {
     "data": {
      "text/plain": [
       "{'device': 'elsys',\n",
       " 'temperature': 23.6,\n",
       " 'humidity': 35,\n",
       " 'x': 60,\n",
       " 'y': 17,\n",
       " 'z': -5,\n",
       " 'vdd': 3630,\n",
       " 'pulseAbs': 153,\n",
       " 'digital': 0,\n",
       " 'accMotion': 0,\n",
       " 'waterleak': 0}"
      ]
     },
     "execution_count": 246,
     "metadata": {},
     "output_type": "execute_result"
    }
   ],
   "source": [
    "DecodeElsysPayload(data)"
   ]
  },
  {
   "cell_type": "code",
   "execution_count": 247,
   "metadata": {},
   "outputs": [
    {
     "name": "stdout",
     "output_type": "stream",
     "text": [
      "0\n",
      "1\n",
      "2\n",
      "3\n",
      "4\n",
      "10\n",
      "6\n",
      "7\n",
      "8\n",
      "9\n"
     ]
    }
   ],
   "source": [
    "for i in range(0,10):\n",
    "    if(i==5):\n",
    "        i+=5\n",
    "    print(i)"
   ]
  },
  {
   "cell_type": "code",
   "execution_count": 248,
   "metadata": {},
   "outputs": [
    {
     "name": "stdout",
     "output_type": "stream",
     "text": [
      "data  b'\\x01\\x00\\xb4\\x02(\\x04\\x00\\x00\\x05\\x00\\x06\\x01\\xb3\\x07\\x0eD'  len  16\n",
      "temp\n",
      "bin16dec 180 --> 180\n",
      "0 before\n",
      "2 after\n"
     ]
    },
    {
     "data": {
      "text/plain": [
       "{'device': 'elsys',\n",
       " 'temperature': 18.0,\n",
       " 'humidity': 40,\n",
       " 'light': 0,\n",
       " 'motion': 0,\n",
       " 'co2': 435,\n",
       " 'vdd': 3652}"
      ]
     },
     "execution_count": 248,
     "metadata": {},
     "output_type": "execute_result"
    }
   ],
   "source": [
    "DecodeElsysPayload(base64.b64decode(\"AQC0AigEAAAFAAYBswcORA==\"))"
   ]
  },
  {
   "cell_type": "markdown",
   "metadata": {},
   "source": [
    "{\n",
    "  \"app_id\": \"cambridge-sensor-network\",\n",
    "  \"dev_id\": \"elsys-eye-044501\",\n",
    "  \"hardware_serial\": \"A81758FFFE044501\",\n",
    "  \"port\": 5,\n",
    "  \"counter\": 146,\n",
    "  \"payload_raw\": \n",
    "  ### \"BQERAQ==\"\n",
    "  ,\n",
    "  \"payload_fields\": {\n",
    "    \"device\": \"elsys\",\n",
    "    \"motion\": 1,\n",
    "    \"occupancy\": 1\n",
    "  }"
   ]
  },
  {
   "cell_type": "markdown",
   "metadata": {},
   "source": [
    "{\n",
    "  \"app_id\": \"cambridge-sensor-network\",\n",
    "  \"dev_id\": \"elsys-eye-044501\",\n",
    "  \"hardware_serial\": \"A81758FFFE044501\",\n",
    "  \"port\": 5,\n",
    "  \"counter\": 145,\n",
    "  \"payload_raw\": \n",
    "  ### \"AQDdAh8EAN0FAAcOIhEA\"\n",
    "  ,\n",
    "  \"payload_fields\": {\n",
    "    \"device\": \"elsys\",\n",
    "    \"humidity\": 31,\n",
    "    \"light\": 221,\n",
    "    \"motion\": 0,\n",
    "    \"occupancy\": 0,\n",
    "    \"temperature\": 22.1,\n",
    "    \"vdd\": 3618\n",
    "  },\n"
   ]
  },
  {
   "cell_type": "code",
   "execution_count": 13,
   "metadata": {},
   "outputs": [],
   "source": [
    "import json"
   ]
  },
  {
   "cell_type": "code",
   "execution_count": 33,
   "metadata": {},
   "outputs": [],
   "source": [
    "msg='{ \"app_id\": \"cambridge-sensor-network\", \"dev_id\": \"elsys-eye-044501\", \"hardware_serial\": \"A81758FFFE044501\", \"port\": 5, \"counter\": 146, \"payload_raw\":\"BQERAQ==\", \"payload_fields\": { \"device\": \"elsys\", \"motion\": 1, \"occupancy\": 1 }}'"
   ]
  },
  {
   "cell_type": "code",
   "execution_count": 34,
   "metadata": {},
   "outputs": [
    {
     "data": {
      "text/plain": [
       "'{ \"app_id\": \"cambridge-sensor-network\", \"dev_id\": \"elsys-eye-044501\", \"hardware_serial\": \"A81758FFFE044501\", \"port\": 5, \"counter\": 146, \"payload_raw\":\"BQERAQ==\", \"payload_fields\": { \"device\": \"elsys\", \"motion\": 1, \"occupancy\": 1 }}'"
      ]
     },
     "execution_count": 34,
     "metadata": {},
     "output_type": "execute_result"
    }
   ],
   "source": [
    "msg"
   ]
  },
  {
   "cell_type": "code",
   "execution_count": 51,
   "metadata": {},
   "outputs": [],
   "source": [
    "eye_msg=\"{'app_id': 'cambridge-sensor-network', 'dev_id': 'ijl20-sodaq-ttn', 'hardware_serial': '763A53FFB342FBD8', 'port': 1, 'counter': 90168, 'payload_raw': 'MjYuNDU=', 'payload_fields': {'device': 'temperature', 'temperature': '26.45'}, 'metadata': {'time': '2020-02-13T15:58:37.526235678Z', 'frequency': 868.5, 'modulation': 'LORA', 'data_rate': 'SF7BW125', 'airtime': 51456000, 'coding_rate': '4/5', 'gateways': [{'gtw_id': 'csn-mtcdtip-003c70', 'gtw_trusted': True, 'timestamp': 3371042907, 'time': '2020-02-13T15:58:37Z', 'channel': 2, 'rssi': -87, 'snr': 7, 'rf_chain': 1, 'latitude': 52.21095, 'longitude': 0.09169465, 'altitude': 15, 'location_source': 'registry'}, {'gtw_id': 'csn-mtcap-014abf', 'gtw_trusted': True, 'timestamp': 3301353435, 'time': '2020-02-13T16:24:43Z', 'channel': 2, 'rssi': -47, 'snr': 6.5, 'rf_chain': 1, 'latitude': 52.21096, 'longitude': 0.09249892, 'location_source': 'registry'}, {'gtw_id': 'csn-mtcdt-00060f', 'gtw_trusted': True, 'timestamp': 119746195, 'time': '2020-02-13T16:04:18Z', 'channel': 2, 'rssi': -36, 'snr': 6.5, 'rf_chain': 1}]}}\""
   ]
  },
  {
   "cell_type": "code",
   "execution_count": 52,
   "metadata": {},
   "outputs": [
    {
     "data": {
      "text/plain": [
       "\"{'app_id': 'cambridge-sensor-network', 'dev_id': 'ijl20-sodaq-ttn', 'hardware_serial': '763A53FFB342FBD8', 'port': 1, 'counter': 90168, 'payload_raw': 'MjYuNDU=', 'payload_fields': {'device': 'temperature', 'temperature': '26.45'}, 'metadata': {'time': '2020-02-13T15:58:37.526235678Z', 'frequency': 868.5, 'modulation': 'LORA', 'data_rate': 'SF7BW125', 'airtime': 51456000, 'coding_rate': '4/5', 'gateways': [{'gtw_id': 'csn-mtcdtip-003c70', 'gtw_trusted': True, 'timestamp': 3371042907, 'time': '2020-02-13T15:58:37Z', 'channel': 2, 'rssi': -87, 'snr': 7, 'rf_chain': 1, 'latitude': 52.21095, 'longitude': 0.09169465, 'altitude': 15, 'location_source': 'registry'}, {'gtw_id': 'csn-mtcap-014abf', 'gtw_trusted': True, 'timestamp': 3301353435, 'time': '2020-02-13T16:24:43Z', 'channel': 2, 'rssi': -47, 'snr': 6.5, 'rf_chain': 1, 'latitude': 52.21096, 'longitude': 0.09249892, 'location_source': 'registry'}, {'gtw_id': 'csn-mtcdt-00060f', 'gtw_trusted': True, 'timestamp': 119746195, 'time': '2020-02-13T16:04:18Z', 'channel': 2, 'rssi': -36, 'snr': 6.5, 'rf_chain': 1}]}}\""
      ]
     },
     "execution_count": 52,
     "metadata": {},
     "output_type": "execute_result"
    }
   ],
   "source": [
    "eye_msg"
   ]
  },
  {
   "cell_type": "code",
   "execution_count": 53,
   "metadata": {},
   "outputs": [
    {
     "ename": "JSONDecodeError",
     "evalue": "Expecting property name enclosed in double quotes: line 1 column 2 (char 1)",
     "output_type": "error",
     "traceback": [
      "\u001b[0;31m---------------------------------------------------------------------------\u001b[0m",
      "\u001b[0;31mJSONDecodeError\u001b[0m                           Traceback (most recent call last)",
      "\u001b[0;32m<ipython-input-53-589adeb5e828>\u001b[0m in \u001b[0;36m<module>\u001b[0;34m\u001b[0m\n\u001b[0;32m----> 1\u001b[0;31m \u001b[0mmsg_json\u001b[0m\u001b[0;34m=\u001b[0m\u001b[0mjson\u001b[0m\u001b[0;34m.\u001b[0m\u001b[0mloads\u001b[0m\u001b[0;34m(\u001b[0m\u001b[0meye_msg\u001b[0m\u001b[0;34m)\u001b[0m\u001b[0;34m\u001b[0m\u001b[0;34m\u001b[0m\u001b[0m\n\u001b[0m\u001b[1;32m      2\u001b[0m \u001b[0mmsg_json\u001b[0m\u001b[0;34m\u001b[0m\u001b[0;34m\u001b[0m\u001b[0m\n",
      "\u001b[0;32m~/anaconda3/lib/python3.7/json/__init__.py\u001b[0m in \u001b[0;36mloads\u001b[0;34m(s, encoding, cls, object_hook, parse_float, parse_int, parse_constant, object_pairs_hook, **kw)\u001b[0m\n\u001b[1;32m    346\u001b[0m             \u001b[0mparse_int\u001b[0m \u001b[0;32mis\u001b[0m \u001b[0;32mNone\u001b[0m \u001b[0;32mand\u001b[0m \u001b[0mparse_float\u001b[0m \u001b[0;32mis\u001b[0m \u001b[0;32mNone\u001b[0m \u001b[0;32mand\u001b[0m\u001b[0;34m\u001b[0m\u001b[0;34m\u001b[0m\u001b[0m\n\u001b[1;32m    347\u001b[0m             parse_constant is None and object_pairs_hook is None and not kw):\n\u001b[0;32m--> 348\u001b[0;31m         \u001b[0;32mreturn\u001b[0m \u001b[0m_default_decoder\u001b[0m\u001b[0;34m.\u001b[0m\u001b[0mdecode\u001b[0m\u001b[0;34m(\u001b[0m\u001b[0ms\u001b[0m\u001b[0;34m)\u001b[0m\u001b[0;34m\u001b[0m\u001b[0;34m\u001b[0m\u001b[0m\n\u001b[0m\u001b[1;32m    349\u001b[0m     \u001b[0;32mif\u001b[0m \u001b[0mcls\u001b[0m \u001b[0;32mis\u001b[0m \u001b[0;32mNone\u001b[0m\u001b[0;34m:\u001b[0m\u001b[0;34m\u001b[0m\u001b[0;34m\u001b[0m\u001b[0m\n\u001b[1;32m    350\u001b[0m         \u001b[0mcls\u001b[0m \u001b[0;34m=\u001b[0m \u001b[0mJSONDecoder\u001b[0m\u001b[0;34m\u001b[0m\u001b[0;34m\u001b[0m\u001b[0m\n",
      "\u001b[0;32m~/anaconda3/lib/python3.7/json/decoder.py\u001b[0m in \u001b[0;36mdecode\u001b[0;34m(self, s, _w)\u001b[0m\n\u001b[1;32m    335\u001b[0m \u001b[0;34m\u001b[0m\u001b[0m\n\u001b[1;32m    336\u001b[0m         \"\"\"\n\u001b[0;32m--> 337\u001b[0;31m         \u001b[0mobj\u001b[0m\u001b[0;34m,\u001b[0m \u001b[0mend\u001b[0m \u001b[0;34m=\u001b[0m \u001b[0mself\u001b[0m\u001b[0;34m.\u001b[0m\u001b[0mraw_decode\u001b[0m\u001b[0;34m(\u001b[0m\u001b[0ms\u001b[0m\u001b[0;34m,\u001b[0m \u001b[0midx\u001b[0m\u001b[0;34m=\u001b[0m\u001b[0m_w\u001b[0m\u001b[0;34m(\u001b[0m\u001b[0ms\u001b[0m\u001b[0;34m,\u001b[0m \u001b[0;36m0\u001b[0m\u001b[0;34m)\u001b[0m\u001b[0;34m.\u001b[0m\u001b[0mend\u001b[0m\u001b[0;34m(\u001b[0m\u001b[0;34m)\u001b[0m\u001b[0;34m)\u001b[0m\u001b[0;34m\u001b[0m\u001b[0;34m\u001b[0m\u001b[0m\n\u001b[0m\u001b[1;32m    338\u001b[0m         \u001b[0mend\u001b[0m \u001b[0;34m=\u001b[0m \u001b[0m_w\u001b[0m\u001b[0;34m(\u001b[0m\u001b[0ms\u001b[0m\u001b[0;34m,\u001b[0m \u001b[0mend\u001b[0m\u001b[0;34m)\u001b[0m\u001b[0;34m.\u001b[0m\u001b[0mend\u001b[0m\u001b[0;34m(\u001b[0m\u001b[0;34m)\u001b[0m\u001b[0;34m\u001b[0m\u001b[0;34m\u001b[0m\u001b[0m\n\u001b[1;32m    339\u001b[0m         \u001b[0;32mif\u001b[0m \u001b[0mend\u001b[0m \u001b[0;34m!=\u001b[0m \u001b[0mlen\u001b[0m\u001b[0;34m(\u001b[0m\u001b[0ms\u001b[0m\u001b[0;34m)\u001b[0m\u001b[0;34m:\u001b[0m\u001b[0;34m\u001b[0m\u001b[0;34m\u001b[0m\u001b[0m\n",
      "\u001b[0;32m~/anaconda3/lib/python3.7/json/decoder.py\u001b[0m in \u001b[0;36mraw_decode\u001b[0;34m(self, s, idx)\u001b[0m\n\u001b[1;32m    351\u001b[0m         \"\"\"\n\u001b[1;32m    352\u001b[0m         \u001b[0;32mtry\u001b[0m\u001b[0;34m:\u001b[0m\u001b[0;34m\u001b[0m\u001b[0;34m\u001b[0m\u001b[0m\n\u001b[0;32m--> 353\u001b[0;31m             \u001b[0mobj\u001b[0m\u001b[0;34m,\u001b[0m \u001b[0mend\u001b[0m \u001b[0;34m=\u001b[0m \u001b[0mself\u001b[0m\u001b[0;34m.\u001b[0m\u001b[0mscan_once\u001b[0m\u001b[0;34m(\u001b[0m\u001b[0ms\u001b[0m\u001b[0;34m,\u001b[0m \u001b[0midx\u001b[0m\u001b[0;34m)\u001b[0m\u001b[0;34m\u001b[0m\u001b[0;34m\u001b[0m\u001b[0m\n\u001b[0m\u001b[1;32m    354\u001b[0m         \u001b[0;32mexcept\u001b[0m \u001b[0mStopIteration\u001b[0m \u001b[0;32mas\u001b[0m \u001b[0merr\u001b[0m\u001b[0;34m:\u001b[0m\u001b[0;34m\u001b[0m\u001b[0;34m\u001b[0m\u001b[0m\n\u001b[1;32m    355\u001b[0m             \u001b[0;32mraise\u001b[0m \u001b[0mJSONDecodeError\u001b[0m\u001b[0;34m(\u001b[0m\u001b[0;34m\"Expecting value\"\u001b[0m\u001b[0;34m,\u001b[0m \u001b[0ms\u001b[0m\u001b[0;34m,\u001b[0m \u001b[0merr\u001b[0m\u001b[0;34m.\u001b[0m\u001b[0mvalue\u001b[0m\u001b[0;34m)\u001b[0m \u001b[0;32mfrom\u001b[0m \u001b[0;32mNone\u001b[0m\u001b[0;34m\u001b[0m\u001b[0;34m\u001b[0m\u001b[0m\n",
      "\u001b[0;31mJSONDecodeError\u001b[0m: Expecting property name enclosed in double quotes: line 1 column 2 (char 1)"
     ]
    }
   ],
   "source": [
    "msg_json=json.loads(eye_msg)\n",
    "msg_json"
   ]
  },
  {
   "cell_type": "code",
   "execution_count": 54,
   "metadata": {},
   "outputs": [
    {
     "data": {
      "text/plain": [
       "{'app_id': 'cambridge-sensor-network',\n",
       " 'dev_id': 'elsys-eye-044501',\n",
       " 'hardware_serial': 'A81758FFFE044501',\n",
       " 'port': 5,\n",
       " 'counter': 146,\n",
       " 'payload_raw': 'BQERAQ==',\n",
       " 'payload_fields': {'device': 'elsys', 'motion': 1, 'occupancy': 1}}"
      ]
     },
     "execution_count": 54,
     "metadata": {},
     "output_type": "execute_result"
    }
   ],
   "source": [
    "msg_json"
   ]
  },
  {
   "cell_type": "code",
   "execution_count": 41,
   "metadata": {},
   "outputs": [
    {
     "data": {
      "text/plain": [
       "'elsys-eye-044501'"
      ]
     },
     "execution_count": 41,
     "metadata": {},
     "output_type": "execute_result"
    }
   ],
   "source": []
  },
  {
   "cell_type": "code",
   "execution_count": 24,
   "metadata": {},
   "outputs": [
    {
     "ename": "AttributeError",
     "evalue": "'str' object has no attribute 'dev_id'",
     "output_type": "error",
     "traceback": [
      "\u001b[0;31m---------------------------------------------------------------------------\u001b[0m",
      "\u001b[0;31mAttributeError\u001b[0m                            Traceback (most recent call last)",
      "\u001b[0;32m<ipython-input-24-0310f803b9e7>\u001b[0m in \u001b[0;36m<module>\u001b[0;34m\u001b[0m\n\u001b[0;32m----> 1\u001b[0;31m \u001b[0mprint\u001b[0m\u001b[0;34m(\u001b[0m\u001b[0mmsg_json\u001b[0m\u001b[0;34m.\u001b[0m\u001b[0mdev_id\u001b[0m\u001b[0;34m)\u001b[0m\u001b[0;34m\u001b[0m\u001b[0;34m\u001b[0m\u001b[0m\n\u001b[0m",
      "\u001b[0;31mAttributeError\u001b[0m: 'str' object has no attribute 'dev_id'"
     ]
    }
   ],
   "source": [
    "print(msg_json.dev_id)"
   ]
  },
  {
   "cell_type": "code",
   "execution_count": null,
   "metadata": {},
   "outputs": [],
   "source": [
    "def print_msg(client, userdata, message):\n",
    "    #print(\"%s : %s\" % (message.topic, message.payload))\n",
    "    inc_msg=str(message.payload,'utf-8')\n",
    "    msg_json=json.dumps(inc_msg)\n",
    "    \n",
    "    print(msg_json[\"dev_id\"])"
   ]
  },
  {
   "cell_type": "code",
   "execution_count": 12,
   "metadata": {},
   "outputs": [],
   "source": [
    "def decodeAdeunis(bytes):\n",
    "    decoded={}\n",
    "    decoded[\"device\"]= \"adeunis_test\"\n",
    "    \n",
    "    offset = 1# index into payload for next field\n",
    "    \n",
    "    #// Temperature\n",
    "    if (bytes[0] & 0x80):  #// temperature present\n",
    "        decoded['temperature'] = bytes[offset+1]# // note only works for positive temps\n",
    "    \n",
    "    \n",
    "    #// Button press\n",
    "    if (bytes[0] & 0x20): # // Button was pressed\n",
    "        decoded['button'] = true;\n",
    "    \n",
    "    #// GPS\n",
    "    if (bytes[0] & 0x10): # // gps present\n",
    "        degrees = (bytes[offset] >> 4) * 10 + (bytes[offset] & 0x0F) ;\n",
    "      #//decoded['lat_deg'] = degrees;\n",
    "      \n",
    "        minutes = (bytes[offset+1] >> 4) * 10 + (bytes[offset+1] & 0x0F) +(bytes[offset+2] >> 4) / 10 + (bytes[offset+2] & 0x0F) / 100 + (bytes[offset+3] >> 4) / 1000;\n",
    "          #//decoded['lat_mins'] = minutes;\n",
    "      \n",
    "        lat_south = bytes[offset+3] & 0x01\n",
    "        decoded['latitude'] = (-1 if lat_south  else 1) * degrees + minutes / 60\n",
    "        offset += 4;\n",
    "      \n",
    "        degrees = (bytes[offset] >> 4) * 100 + (bytes[offset] & 0x0F) * 10 + (bytes[offset+1] >> 4) ;\n",
    "          #//decoded['lng_deg'] = degrees;\n",
    "      \n",
    "        minutes = (bytes[offset+1] & 0x0F) * 10 + (bytes[offset+2] >> 4) + (bytes[offset+2] & 0x0F) / 10 + (bytes[offset+3] >> 4) / 100;\n",
    "          #//decoded['lng_mins'] = minutes;\n",
    "      \n",
    "        lng_west = bytes[offset+3] & 0x01;\n",
    "        decoded['longitude'] = (-1 if lng_west else 1) * degrees + minutes / 60;\n",
    "        decoded['gps_reception'] = bytes[offset+4] >> 4;\n",
    "        decoded['gps_satellites'] = bytes[offset+4] & 0x0F;\n",
    "        offset += 5;\n",
    "    \n",
    "    \n",
    "    if (bytes[0] & 0x08):  #// Uplink count present\n",
    "        decoded['uplink_counter'] = bytes[offset+1];\n",
    "    \n",
    "    \n",
    "    if (bytes[0] & 0x04): #// Downlink count present\n",
    "        decoded['downlink_counter'] = bytes[offset+1];\n",
    "    \n",
    "    \n",
    "    # battery voltage in mV\n",
    "    if (bytes[0] & 0x02):  #// battery mV present\n",
    "        decoded['battery'] = (bytes[offset] * 256 + bytes[offset+1]) / 1000;\n",
    "        offset += 2;\n",
    "    \n",
    "    \n",
    "    if (bytes[0] & 0x01):  #// RSSI and SNR present\n",
    "        decoded['rssi'] = -bytes[offset+1]; #// rssi always negative\n",
    "        decoded['snr'] =   bytes[offset] if (bytes[offset] < 128) else -(256 - bytes[offset]); #// snr in 2's complement\n",
    "    \n",
    "\n",
    "    return decoded;\n",
    "# end Adeunis"
   ]
  },
  {
   "cell_type": "code",
   "execution_count": null,
   "metadata": {},
   "outputs": [],
   "source": []
  },
  {
   "cell_type": "code",
   "execution_count": null,
   "metadata": {},
   "outputs": [],
   "source": []
  },
  {
   "cell_type": "code",
   "execution_count": null,
   "metadata": {},
   "outputs": [],
   "source": []
  }
 ],
 "metadata": {
  "kernelspec": {
   "display_name": "Python 3",
   "language": "python",
   "name": "python3"
  },
  "language_info": {
   "codemirror_mode": {
    "name": "ipython",
    "version": 3
   },
   "file_extension": ".py",
   "mimetype": "text/x-python",
   "name": "python",
   "nbconvert_exporter": "python",
   "pygments_lexer": "ipython3",
   "version": "3.7.3"
  }
 },
 "nbformat": 4,
 "nbformat_minor": 2
}
